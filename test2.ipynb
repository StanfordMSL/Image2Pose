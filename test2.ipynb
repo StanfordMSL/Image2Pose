{
 "cells": [
  {
   "cell_type": "markdown",
   "metadata": {},
   "source": [
    "Testing of ResNet+MLP where we take the ResNet output, concatenate it with a gravity vector (which the drone has via its IMU) and pass it through an MLP to get an estimate of the pose.\n",
    "\n",
    "We try out a bunch of hidden layer configurations and also compare results between networks with pre-trained ResNet weights and networks where the ResNet weights are allowed to be trained on given the data."
   ]
  },
  {
   "cell_type": "code",
   "execution_count": 1,
   "metadata": {},
   "outputs": [],
   "source": [
    "# Some useful settings for interactive work\n",
    "%load_ext autoreload\n",
    "%autoreload 2"
   ]
  },
  {
   "cell_type": "code",
   "execution_count": 2,
   "metadata": {},
   "outputs": [],
   "source": [
    "import functions.data as df\n",
    "import functions.training as tf\n",
    "from models import *"
   ]
  },
  {
   "cell_type": "code",
   "execution_count": 3,
   "metadata": {},
   "outputs": [],
   "source": [
    "# Initialize NN variables\n",
    "hidden_sizes = [\n",
    "    [256, 128, 7],\n",
    "    [128, 32, 7],\n",
    "    ]\n",
    "\n",
    "mlps = [VisionPoseMLP(hidden_size,False) for hidden_size in hidden_sizes]\n",
    "\n",
    "Neps = 500\n",
    "Ndata = None\n",
    "ratio = 0.8\n",
    "Nexp = 0"
   ]
  },
  {
   "cell_type": "code",
   "execution_count": 16,
   "metadata": {},
   "outputs": [],
   "source": [
    "# Generate data loaders\n",
    "train_loader, test_loader = df.get_resn_data(ratio,Ndata)"
   ]
  },
  {
   "cell_type": "code",
   "execution_count": null,
   "metadata": {},
   "outputs": [
    {
     "name": "stdout",
     "output_type": "stream",
     "text": [
      "=============================================================\n",
      "Training: basic001\n",
      "Epoch:  50 | Loss: 0.06353\n",
      "Epoch: 100 | Loss: 0.04585\n",
      "Epoch: 150 | Loss: 0.03284\n",
      "Epoch: 200 | Loss: 0.03641\n",
      "Epoch: 250 | Loss: 0.01108\n",
      "Epoch: 300 | Loss: 0.00770\n",
      "Epoch: 350 | Loss: 0.00575\n",
      "Epoch: 400 | Loss: 0.00277\n",
      "Epoch: 450 | Loss: 0.00256\n",
      "Epoch: 500 | Loss: 0.00241\n",
      "-------------------------------------------------------------\n",
      "-------------------------------------------------------------\n",
      "Test Loss: 0.0440\n",
      "Examples:\n",
      "=============================================================\n",
      "Training: basic002\n",
      "Epoch:  50 | Loss: 0.04947\n",
      "Epoch: 100 | Loss: 0.03774\n",
      "Epoch: 150 | Loss: 0.04127\n",
      "Epoch: 200 | Loss: 0.04300\n",
      "Epoch: 250 | Loss: 0.03031\n",
      "Epoch: 300 | Loss: 0.03004\n",
      "Epoch: 350 | Loss: 0.00641\n",
      "Epoch: 400 | Loss: 0.00366\n",
      "Epoch: 450 | Loss: 0.00436\n",
      "Epoch: 500 | Loss: 0.00235\n",
      "-------------------------------------------------------------\n",
      "-------------------------------------------------------------\n",
      "Test Loss: 0.0462\n",
      "Examples:\n",
      "=============================================================\n",
      "Training: basic003\n",
      "Epoch:  50 | Loss: 0.07047\n",
      "Epoch: 100 | Loss: 0.06730\n",
      "Epoch: 150 | Loss: 0.07948\n",
      "Epoch: 200 | Loss: 0.05323\n",
      "Epoch: 250 | Loss: 0.04739\n",
      "Epoch: 300 | Loss: 0.03963\n",
      "Epoch: 350 | Loss: 0.03823\n",
      "Epoch: 400 | Loss: 0.04430\n",
      "Epoch: 450 | Loss: 0.04337\n",
      "Epoch: 500 | Loss: 0.03831\n",
      "-------------------------------------------------------------\n",
      "-------------------------------------------------------------\n",
      "Test Loss: 0.0647\n",
      "Examples:\n",
      "=============================================================\n",
      "Training: basic004\n",
      "Epoch:  50 | Loss: 0.03343\n",
      "Epoch: 100 | Loss: 0.04380\n",
      "Epoch: 150 | Loss: 0.02288\n",
      "Epoch: 200 | Loss: 0.03344\n",
      "Epoch: 250 | Loss: 0.01283\n",
      "Epoch: 300 | Loss: 0.02823\n",
      "Epoch: 350 | Loss: 0.02022\n",
      "Epoch: 400 | Loss: 0.02247\n",
      "Epoch: 450 | Loss: 0.02032\n",
      "Epoch: 500 | Loss: 0.02583\n",
      "-------------------------------------------------------------\n",
      "-------------------------------------------------------------\n",
      "Test Loss: 0.0500\n",
      "Examples:\n",
      "=============================================================\n",
      "Training: basic005\n",
      "Epoch:  50 | Loss: 0.03745\n",
      "Epoch: 100 | Loss: 0.02547\n",
      "Epoch: 150 | Loss: 0.03771\n",
      "Epoch: 200 | Loss: 0.02278\n",
      "Epoch: 250 | Loss: 0.00528\n",
      "Epoch: 300 | Loss: 0.00303\n",
      "Epoch: 350 | Loss: 0.00451\n",
      "Epoch: 400 | Loss: 0.00134\n",
      "Epoch: 450 | Loss: 0.00067\n",
      "Epoch: 500 | Loss: 0.00097\n",
      "-------------------------------------------------------------\n",
      "-------------------------------------------------------------\n",
      "Test Loss: 0.0543\n",
      "Examples:\n",
      "=============================================================\n",
      "Training: basic006\n",
      "Epoch:  50 | Loss: 0.04024\n",
      "Epoch: 100 | Loss: 0.03320\n",
      "Epoch: 150 | Loss: 0.02116\n",
      "Epoch: 200 | Loss: 0.01594\n",
      "Epoch: 250 | Loss: 0.01952\n",
      "Epoch: 300 | Loss: 0.03113\n",
      "Epoch: 350 | Loss: 0.01256\n",
      "Epoch: 400 | Loss: 0.03697\n",
      "Epoch: 450 | Loss: 0.03541\n",
      "Epoch: 500 | Loss: 0.01129\n",
      "-------------------------------------------------------------\n",
      "-------------------------------------------------------------\n",
      "Test Loss: 0.0561\n",
      "Examples:\n"
     ]
    }
   ],
   "source": [
    "# Train the basic models\n",
    "for idx,mlp in enumerate(mlps):\n",
    "    mlp_name = \"basic\"+str(idx+1).zfill(3)\n",
    "    print(\"=============================================================\")\n",
    "    print(\"Training: \"+mlp_name)\n",
    "    tf.train_model(mlp, train_loader, mlp_name,useNeRF=False, Neps=Neps)\n",
    "    print(\"-------------------------------------------------------------\")\n",
    "    tf.test_model(mlp, test_loader,useNeRF=False, Nexp=Nexp)\n",
    "\n",
    "# print(mlp.networks[0].model[0].conv1.weight[0,0,0,:])"
   ]
  }
 ],
 "metadata": {
  "kernelspec": {
   "display_name": "i2p-env",
   "language": "python",
   "name": "python3"
  },
  "language_info": {
   "codemirror_mode": {
    "name": "ipython",
    "version": 3
   },
   "file_extension": ".py",
   "mimetype": "text/x-python",
   "name": "python",
   "nbconvert_exporter": "python",
   "pygments_lexer": "ipython3",
   "version": "3.8.19"
  }
 },
 "nbformat": 4,
 "nbformat_minor": 2
}
