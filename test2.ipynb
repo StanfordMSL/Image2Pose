{
 "cells": [
  {
   "cell_type": "code",
   "execution_count": 1,
   "metadata": {},
   "outputs": [],
   "source": [
    "# Some useful settings for interactive work\n",
    "%load_ext autoreload\n",
    "%autoreload 2"
   ]
  },
  {
   "cell_type": "code",
   "execution_count": 2,
   "metadata": {},
   "outputs": [],
   "source": [
    "import basic_functions as bf\n",
    "import extended_functions as ef\n",
    "import training_functions as tf\n",
    "import torch\n",
    "from models import *\n",
    "import time"
   ]
  },
  {
   "cell_type": "code",
   "execution_count": 3,
   "metadata": {},
   "outputs": [],
   "source": [
    "# Initialize NN variables\n",
    "hidden_sizes_v1 = [[1000, 256, 128, 3], [1003,256,128,4]]\n",
    "hidden_sizes = [hidden_sizes_v1]\n",
    "\n",
    "criterion = nn.MSELoss(reduction='mean')\n",
    "\n",
    "Stmods  = [StaggeredMLP(*hidden_size) for hidden_size in hidden_sizes]\n",
    "Stopts = [torch.optim.Adam(model.parameters()) for model in Stmods]\n",
    "\n",
    "Neps = 300\n",
    "\n",
    "device = torch.device('cuda' if torch.cuda.is_available() else 'cpu')\n"
   ]
  },
  {
   "cell_type": "code",
   "execution_count": 5,
   "metadata": {},
   "outputs": [],
   "source": [
    "# Data loaders\n",
    "tn_lder, tt_lder = bf.get_data(0.8)"
   ]
  },
  {
   "cell_type": "code",
   "execution_count": 9,
   "metadata": {},
   "outputs": [
    {
     "name": "stdout",
     "output_type": "stream",
     "text": [
      "====================================================\n",
      "Training: stex001\n",
      "Epoch:   0 | Loss: 1.48\n",
      "Epoch:  50 | Loss: 0.59\n",
      "Epoch: 100 | Loss: 0.58\n",
      "Epoch: 150 | Loss: 0.60\n",
      "Epoch: 200 | Loss: 0.60\n",
      "Epoch: 250 | Loss: 0.59\n",
      "Epoch: 299 | Loss: 0.59\n",
      "----------------------------------------------------\n",
      "Test Loss: 0.8023\n",
      "Example:\n",
      "-------------------------------------------------------------\n",
      "Output: [ 1.585  1.133  1.309  0.000  0.000  1.000  0.000]\n",
      "Target: [ 1.660  1.198  1.421  0.451  0.513  0.535  0.497]\n",
      "-------------------------------------------------------------\n",
      "-------------------------------------------------------------\n",
      "Output: [ 0.122  0.000  1.281  0.000  0.000  1.000  0.000]\n",
      "Target: [-0.388 -2.095  1.457  0.494  0.495  0.535  0.474]\n",
      "-------------------------------------------------------------\n",
      "-------------------------------------------------------------\n",
      "Output: [ 3.451  1.271  1.205  0.000  0.000  1.000  0.000]\n",
      "Target: [ 4.972  1.531  1.640  0.256  0.638  0.682  0.250]\n",
      "-------------------------------------------------------------\n"
     ]
    }
   ],
   "source": [
    "# Train the extended models\n",
    "for idx,(model, optimizer) in enumerate(zip(Stmods, Stopts)):\n",
    "    model_name = \"stex\"+str(idx+1).zfill(3)\n",
    "    print(\"====================================================\")\n",
    "    print(\"Training: \"+model_name)\n",
    "    tf.train_model(model.to(device), criterion, optimizer, tn_lder, model_name, Neps)\n",
    "    print(\"----------------------------------------------------\")\n",
    "    tf.test_model(model, criterion, tt_lder)"
   ]
  }
 ],
 "metadata": {
  "kernelspec": {
   "display_name": "i2p-env",
   "language": "python",
   "name": "python3"
  },
  "language_info": {
   "codemirror_mode": {
    "name": "ipython",
    "version": 3
   },
   "file_extension": ".py",
   "mimetype": "text/x-python",
   "name": "python",
   "nbconvert_exporter": "python",
   "pygments_lexer": "ipython3",
   "version": "3.10.14"
  }
 },
 "nbformat": 4,
 "nbformat_minor": 2
}
