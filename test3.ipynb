{
 "cells": [
  {
   "cell_type": "code",
   "execution_count": 7,
   "metadata": {},
   "outputs": [
    {
     "name": "stdout",
     "output_type": "stream",
     "text": [
      "The autoreload extension is already loaded. To reload it, use:\n",
      "  %reload_ext autoreload\n"
     ]
    }
   ],
   "source": [
    "# Some useful settings for interactive work\n",
    "%load_ext autoreload\n",
    "%autoreload 2"
   ]
  },
  {
   "cell_type": "code",
   "execution_count": 8,
   "metadata": {},
   "outputs": [],
   "source": [
    "import vector_functions as vf\n",
    "import training_functions as tf\n",
    "import torch\n",
    "from models import *"
   ]
  },
  {
   "cell_type": "code",
   "execution_count": 9,
   "metadata": {},
   "outputs": [],
   "source": [
    "# Initialize NN variables\n",
    "hidden_sizes_v1 = [256, 128, 64, 32, 7]\n",
    "hidden_sizes_v2 = [256, 64, 16, 7]\n",
    "hidden_sizes_v3 = [256, 64, 7]\n",
    "hidden_sizes_v4 = [256, 60, 60, 7]\n",
    "hidden_sizes = [hidden_sizes_v1, hidden_sizes_v2, hidden_sizes_v3, hidden_sizes_v4]\n",
    "\n",
    "criterion = nn.MSELoss(reduction='mean')\n",
    "\n",
    "Vmods  = [BasicMLP(hidden_size) for hidden_size in hidden_sizes]\n",
    "Vopts = [torch.optim.Adam(model.parameters()) for model in Vmods]\n",
    "\n",
    "Neps = 500\n",
    "\n",
    "device = torch.device('cuda' if torch.cuda.is_available() else 'cpu')\n"
   ]
  },
  {
   "cell_type": "code",
   "execution_count": 12,
   "metadata": {},
   "outputs": [],
   "source": [
    "# Data loaders\n",
    "tn_lder, tt_lder = vf.get_data(0.8)"
   ]
  },
  {
   "cell_type": "code",
   "execution_count": 13,
   "metadata": {},
   "outputs": [
    {
     "name": "stdout",
     "output_type": "stream",
     "text": [
      "====================================================\n",
      "Training: vector001\n",
      "Epoch:   0 | Loss: 1.60\n",
      "Epoch:  50 | Loss: 0.75\n",
      "Epoch: 100 | Loss: 0.75\n",
      "Epoch: 150 | Loss: 0.77\n",
      "Epoch: 200 | Loss: 0.50\n",
      "Epoch: 250 | Loss: 0.50\n",
      "Epoch: 300 | Loss: 0.50\n",
      "Epoch: 350 | Loss: 0.50\n",
      "Epoch: 400 | Loss: 0.50\n",
      "Epoch: 450 | Loss: 0.48\n",
      "Epoch: 499 | Loss: 0.51\n",
      "----------------------------------------------------\n",
      "Test Loss: 0.5579\n",
      "Example:\n",
      "-------------------------------------------------------------\n",
      "Output: [ 0.708  0.000  1.131  0.624  0.000  0.000  0.781]\n",
      "Target: [-5.841  0.041  1.206  0.624 -0.125 -0.156  0.755]\n",
      "-------------------------------------------------------------\n",
      "-------------------------------------------------------------\n",
      "Output: [ 0.000  0.000  1.612  0.575  0.000  0.000  0.818]\n",
      "Target: [ 0.023 -0.585  1.508  0.499 -0.203 -0.368  0.758]\n",
      "-------------------------------------------------------------\n",
      "-------------------------------------------------------------\n",
      "Output: [ 4.165  0.000  1.447  0.458  0.720  0.000  0.521]\n",
      "Target: [ 5.508 -0.730  1.551  0.492  0.489  0.519  0.500]\n",
      "-------------------------------------------------------------\n",
      "====================================================\n",
      "Training: vector002\n",
      "Epoch:   0 | Loss: 1.64\n",
      "Epoch:  50 | Loss: 0.50\n",
      "Epoch: 100 | Loss: 0.47\n",
      "Epoch: 150 | Loss: 0.48\n",
      "Epoch: 200 | Loss: 0.46\n",
      "Epoch: 250 | Loss: 0.48\n",
      "Epoch: 300 | Loss: 0.48\n",
      "Epoch: 350 | Loss: 0.46\n",
      "Epoch: 400 | Loss: 0.47\n",
      "Epoch: 450 | Loss: 0.46\n",
      "Epoch: 499 | Loss: 0.46\n",
      "----------------------------------------------------\n",
      "Test Loss: 0.5957\n",
      "Example:\n",
      "-------------------------------------------------------------\n",
      "Output: [ 0.283  0.780  1.610  0.000  0.525  0.661  0.537]\n",
      "Target: [ 1.746  0.928  1.558  0.409  0.499  0.586  0.490]\n",
      "-------------------------------------------------------------\n",
      "-------------------------------------------------------------\n",
      "Output: [ 1.713  0.025  1.133  0.000  0.575  0.794  0.198]\n",
      "Target: [ 2.208  0.883  1.383  0.392  0.459  0.674  0.427]\n",
      "-------------------------------------------------------------\n",
      "-------------------------------------------------------------\n",
      "Output: [ 2.211  0.000  1.186  0.000  0.000  0.000  1.000]\n",
      "Target: [ 2.569  0.023  1.287  0.537 -0.347 -0.343  0.688]\n",
      "-------------------------------------------------------------\n",
      "====================================================\n",
      "Training: vector003\n",
      "Epoch:   0 | Loss: 1.73\n",
      "Epoch:  50 | Loss: 0.59\n",
      "Epoch: 100 | Loss: 0.59\n",
      "Epoch: 150 | Loss: 0.61\n",
      "Epoch: 200 | Loss: 0.59\n",
      "Epoch: 250 | Loss: 0.58\n",
      "Epoch: 300 | Loss: 0.56\n",
      "Epoch: 350 | Loss: 0.58\n",
      "Epoch: 400 | Loss: 0.57\n",
      "Epoch: 450 | Loss: 0.60\n",
      "Epoch: 499 | Loss: 0.58\n",
      "----------------------------------------------------\n",
      "Test Loss: 0.6646\n",
      "Example:\n",
      "-------------------------------------------------------------\n",
      "Output: [ 1.025  0.000  1.436  0.589  0.000  0.000  0.808]\n",
      "Target: [ 1.323 -0.380  1.298  0.512 -0.354 -0.444  0.644]\n",
      "-------------------------------------------------------------\n",
      "-------------------------------------------------------------\n",
      "Output: [ 5.649  0.000  1.846  0.515  0.418  0.432  0.611]\n",
      "Target: [ 6.005  1.282  1.749  0.448  0.515  0.545  0.486]\n",
      "-------------------------------------------------------------\n",
      "-------------------------------------------------------------\n",
      "Output: [ 6.475  0.000  1.535  0.447  0.491  0.555  0.501]\n",
      "Target: [ 6.032  0.641  1.423  0.503  0.448  0.487  0.556]\n",
      "-------------------------------------------------------------\n",
      "====================================================\n",
      "Training: vector004\n",
      "Epoch:   0 | Loss: 1.60\n",
      "Epoch:  50 | Loss: 0.48\n",
      "Epoch: 100 | Loss: 0.46\n",
      "Epoch: 150 | Loss: 0.45\n",
      "Epoch: 200 | Loss: 0.43\n",
      "Epoch: 250 | Loss: 0.44\n",
      "Epoch: 300 | Loss: 0.45\n",
      "Epoch: 350 | Loss: 0.44\n",
      "Epoch: 400 | Loss: 0.43\n",
      "Epoch: 450 | Loss: 0.45\n",
      "Epoch: 499 | Loss: 0.46\n",
      "----------------------------------------------------\n",
      "Test Loss: 0.5501\n",
      "Example:\n",
      "-------------------------------------------------------------\n",
      "Output: [ 0.742  0.000  1.129  0.579  0.000  0.000  0.816]\n",
      "Target: [ 0.878 -1.227  1.266  0.508 -0.319 -0.297  0.743]\n",
      "-------------------------------------------------------------\n",
      "-------------------------------------------------------------\n",
      "Output: [ 2.458  0.000  1.020  0.462  0.068  0.243  0.850]\n",
      "Target: [ 3.112 -2.307  1.000  0.515 -0.037 -0.019  0.856]\n",
      "-------------------------------------------------------------\n",
      "-------------------------------------------------------------\n",
      "Output: [ 2.436  0.000  1.161  0.568  0.000  0.000  0.823]\n",
      "Target: [ 5.259 -2.006  1.187  0.584 -0.319 -0.277  0.693]\n",
      "-------------------------------------------------------------\n"
     ]
    }
   ],
   "source": [
    "# Train the vector models\n",
    "for idx,(model, optimizer) in enumerate(zip(Vmods, Vopts)):\n",
    "    model_name = \"vector\"+str(idx+1).zfill(3)\n",
    "    print(\"====================================================\")\n",
    "    print(\"Training: \"+model_name)\n",
    "    tf.train_model(model.to(device), criterion, optimizer, tn_lder, model_name, Neps)\n",
    "    print(\"----------------------------------------------------\")\n",
    "    tf.test_model(model.to(device), criterion, tt_lder)"
   ]
  }
 ],
 "metadata": {
  "kernelspec": {
   "display_name": "i2p-env",
   "language": "python",
   "name": "python3"
  },
  "language_info": {
   "codemirror_mode": {
    "name": "ipython",
    "version": 3
   },
   "file_extension": ".py",
   "mimetype": "text/x-python",
   "name": "python",
   "nbconvert_exporter": "python",
   "pygments_lexer": "ipython3",
   "version": "3.10.14"
  }
 },
 "nbformat": 4,
 "nbformat_minor": 2
}
