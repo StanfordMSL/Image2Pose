{
 "cells": [
  {
   "cell_type": "code",
   "execution_count": null,
   "metadata": {},
   "outputs": [],
   "source": [
    "# Some useful settings for interactive work\n",
    "%load_ext autoreload\n",
    "%autoreload 2"
   ]
  },
  {
   "cell_type": "code",
   "execution_count": null,
   "metadata": {},
   "outputs": [],
   "source": [
    "import basic_functions as bf\n",
    "import extended_functions as ef\n",
    "import training_functions as tf\n",
    "import torch\n",
    "from models import *"
   ]
  },
  {
   "cell_type": "code",
   "execution_count": null,
   "metadata": {},
   "outputs": [],
   "source": [
    "# Initialize NN variables\n",
    "hidden_sizes_v1 = [1000, 512, 256, 128, 7]\n",
    "hidden_sizes_v2 = [1000, 256, 64, 7]\n",
    "hidden_sizes_v3 = [1000, 128, 7]\n",
    "hidden_sizes_v4 = [1000, 256, 256, 7]\n",
    "hidden_sizes = [hidden_sizes_v1, hidden_sizes_v2, hidden_sizes_v3, hidden_sizes_v4]\n",
    "\n",
    "criterion = nn.MSELoss(reduction='mean')\n",
    "\n",
    "Bmods  = [BasicMLP(hidden_size) for hidden_size in hidden_sizes]\n",
    "E1mods = [ExtendedMLP_v1(hidden_size) for hidden_size in hidden_sizes]\n",
    "E2mods = [ExtendedMLP_v2(hidden_size) for hidden_size in hidden_sizes]\n",
    "Smods  = [SuperExtendedMLP(hidden_sizes_v1)]\n",
    "\n",
    "Bopts = [torch.optim.Adam(model.parameters()) for model in Bmods]\n",
    "E1opts = [torch.optim.Adam(model.parameters()) for model in E1mods]\n",
    "E2opts = [torch.optim.Adam(model.parameters()) for model in E2mods]\n",
    "Sopts = [torch.optim.Adam(model.parameters()) for model in Smods]\n",
    "\n",
    "Neps = 500"
   ]
  },
  {
   "cell_type": "code",
   "execution_count": null,
   "metadata": {},
   "outputs": [],
   "source": [
    "# Train the basic models\n",
    "tn_lder, tt_lder = bf.get_data(0.8)\n",
    "\n",
    "for idx,(model, optimizer) in enumerate(zip(Bmods, Bopts)):\n",
    "    model_name = \"basic\"+str(idx+1).zfill(3)\n",
    "    print(\"====================================================\")\n",
    "    print(\"Training: \"+model_name)\n",
    "    tf.train_model(model, criterion, optimizer, tn_lder, model_name, Neps)\n",
    "    print(\"----------------------------------------------------\")\n",
    "    tf.test_model(model, criterion, tt_lder)"
   ]
  },
  {
   "cell_type": "code",
   "execution_count": null,
   "metadata": {},
   "outputs": [],
   "source": [
    "# Train the extended models\n",
    "tn_lder, tt_lder = ef.get_data(0.8)\n",
    "Neps = 200\n",
    "\n",
    "for idx,(model, optimizer) in enumerate(zip(E1mods, E1opts)):\n",
    "    model_name = \"extd\"+str(idx+1).zfill(3)+\"_v1\"\n",
    "    print(\"====================================================\")\n",
    "    print(\"Training: \"+model_name)\n",
    "    tf.train_model(model, criterion, optimizer, tn_lder, model_name, Neps)\n",
    "    print(\"----------------------------------------------------\")\n",
    "    tf.test_model(model, criterion, tt_lder)\n",
    "\n",
    "for idx,(model, optimizer) in enumerate(zip(E2mods, E2opts)):\n",
    "    model_name = \"extd\"+str(idx+1).zfill(3)+\"_v2\"\n",
    "    print(\"====================================================\")\n",
    "    print(\"Training: \"+model_name)\n",
    "    tf.train_model(model, criterion, optimizer, tn_lder, model_name, Neps)\n",
    "    print(\"----------------------------------------------------\")\n",
    "    tf.test_model(model, criterion, tt_lder)\n",
    "\n",
    "for idx,(model, optimizer) in enumerate(zip(Smods, Sopts)):\n",
    "    model_name = \"spex\"+str(idx+1).zfill(3)\n",
    "    print(\"====================================================\")\n",
    "    print(\"Training: \"+model_name)\n",
    "    tf.train_model(model, criterion, optimizer, tn_lder, model_name, Neps)\n",
    "    print(\"----------------------------------------------------\")\n",
    "    tf.test_model(model, criterion, tt_lder)"
   ]
  }
 ],
 "metadata": {
  "kernelspec": {
   "display_name": "i2p-env",
   "language": "python",
   "name": "python3"
  },
  "language_info": {
   "codemirror_mode": {
    "name": "ipython",
    "version": 3
   },
   "file_extension": ".py",
   "mimetype": "text/x-python",
   "name": "python",
   "nbconvert_exporter": "python",
   "pygments_lexer": "ipython3",
   "version": "3.10.14"
  }
 },
 "nbformat": 4,
 "nbformat_minor": 2
}
