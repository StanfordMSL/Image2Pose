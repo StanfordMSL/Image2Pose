{
 "cells": [
  {
   "cell_type": "code",
   "execution_count": 1,
   "metadata": {},
   "outputs": [],
   "source": [
    "# Some useful settings for interactive work\n",
    "%load_ext autoreload\n",
    "%autoreload 2"
   ]
  },
  {
   "cell_type": "code",
   "execution_count": 2,
   "metadata": {},
   "outputs": [],
   "source": [
    "import data_functions as df\n",
    "import training_functions as tf\n",
    "from models import *"
   ]
  },
  {
   "cell_type": "code",
   "execution_count": 3,
   "metadata": {},
   "outputs": [],
   "source": [
    "# Initialize NN variables\n",
    "hidden_sizes = [\n",
    "    [256, 128, 7],\n",
    "    # [128, 32, 7],\n",
    "    # [128, 32, 8, 7]\n",
    "    ]\n",
    "\n",
    "mlp0 = [VisionPoseMLP(hidden_size,True) for hidden_size in hidden_sizes]\n",
    "mlp1 = [VisionPoseMLP(hidden_size,False) for hidden_size in hidden_sizes]\n",
    "mlps:list[VisionPoseMLP] = mlp0 + mlp1\n",
    "\n",
    "Neps = 300"
   ]
  },
  {
   "cell_type": "code",
   "execution_count": 4,
   "metadata": {},
   "outputs": [],
   "source": [
    "# Generate data loaders\n",
    "train_loader, test_loader = df.get_data(0.8)"
   ]
  },
  {
   "cell_type": "code",
   "execution_count": 5,
   "metadata": {},
   "outputs": [
    {
     "name": "stdout",
     "output_type": "stream",
     "text": [
      "=============================================================\n",
      "Training: basic001\n",
      "tensor([[-0.0104, -0.0061, -0.0018,  0.0748,  0.0566,  0.0171, -0.0127],\n",
      "        [ 0.0111,  0.0095, -0.1099, -0.2805, -0.2712, -0.1291,  0.0037],\n",
      "        [-0.0069,  0.0591,  0.2955,  0.5872,  0.5197,  0.2563,  0.0636]])\n"
     ]
    },
    {
     "name": "stderr",
     "output_type": "stream",
     "text": [
      "/home/lowjunen/anaconda3/envs/i2p-env/lib/python3.10/site-packages/torch/cuda/__init__.py:141: UserWarning: CUDA initialization: CUDA unknown error - this may be due to an incorrectly set up environment, e.g. changing env variable CUDA_VISIBLE_DEVICES after program start. Setting the available devices to be zero. (Triggered internally at /opt/conda/conda-bld/pytorch_1711403388920/work/c10/cuda/CUDAFunctions.cpp:108.)\n",
      "  return torch._C._cuda_getDeviceCount() > 0\n"
     ]
    },
    {
     "name": "stdout",
     "output_type": "stream",
     "text": [
      "Epoch:   0 | Loss: 0.67\n",
      "Epoch:   9 | Loss: 0.02\n",
      "tensor([[-0.0104, -0.0061, -0.0018,  0.0748,  0.0566,  0.0171, -0.0127],\n",
      "        [ 0.0111,  0.0095, -0.1099, -0.2805, -0.2712, -0.1291,  0.0037],\n",
      "        [-0.0069,  0.0591,  0.2955,  0.5872,  0.5197,  0.2563,  0.0636]])\n",
      "-------------------------------------------------------------\n",
      "-------------------------------------------------------------\n",
      "Test Loss: 0.0186\n",
      "Examples:\n",
      "-------------------------------------------------------------\n",
      "Output: [ 1.376  0.405  0.716 -0.032  0.701  0.712 -0.030]\n",
      "Target: [ 1.654  0.421  0.983 -0.029  0.667  0.744 -0.034]\n",
      "-------------------------------------------------------------\n",
      "-------------------------------------------------------------\n",
      "Output: [ 1.376  0.405  0.716 -0.032  0.701  0.712 -0.030]\n",
      "Target: [ 1.654  0.421  0.983 -0.029  0.667  0.744 -0.034]\n",
      "-------------------------------------------------------------\n",
      "-------------------------------------------------------------\n",
      "Output: [ 1.376  0.405  0.716 -0.032  0.701  0.712 -0.030]\n",
      "Target: [ 1.654  0.421  0.983 -0.029  0.667  0.744 -0.034]\n",
      "-------------------------------------------------------------\n",
      "=============================================================\n",
      "Training: basic002\n",
      "tensor([[-0.0104, -0.0061, -0.0018,  0.0748,  0.0566,  0.0171, -0.0127],\n",
      "        [ 0.0111,  0.0095, -0.1099, -0.2805, -0.2712, -0.1291,  0.0037],\n",
      "        [-0.0069,  0.0591,  0.2955,  0.5872,  0.5197,  0.2563,  0.0636]],\n",
      "       grad_fn=<SliceBackward0>)\n",
      "Epoch:   0 | Loss: 0.94\n",
      "Epoch:   9 | Loss: 0.04\n",
      "tensor([[-0.0060, -0.0017, -0.0051,  0.0706,  0.0520,  0.0125, -0.0173],\n",
      "        [ 0.0152,  0.0136, -0.1066, -0.2853, -0.2698, -0.1338, -0.0011],\n",
      "        [-0.0028,  0.0632,  0.2993,  0.5829,  0.5220,  0.2572,  0.0589]],\n",
      "       grad_fn=<SliceBackward0>)\n",
      "-------------------------------------------------------------\n",
      "-------------------------------------------------------------\n",
      "Test Loss: 0.1940\n",
      "Examples:\n",
      "-------------------------------------------------------------\n",
      "Output: [ 2.841  0.180  1.508  0.015  0.571  0.821 -0.012]\n",
      "Target: [ 1.634  0.374  0.792 -0.023  0.688  0.725 -0.036]\n",
      "-------------------------------------------------------------\n",
      "-------------------------------------------------------------\n",
      "Output: [ 2.841  0.180  1.508  0.015  0.571  0.821 -0.012]\n",
      "Target: [ 1.634  0.374  0.792 -0.023  0.688  0.725 -0.036]\n",
      "-------------------------------------------------------------\n",
      "-------------------------------------------------------------\n",
      "Output: [ 2.370  0.247  1.335  0.015  0.564  0.825 -0.014]\n",
      "Target: [ 1.654  0.421  0.983 -0.029  0.667  0.744 -0.034]\n",
      "-------------------------------------------------------------\n"
     ]
    }
   ],
   "source": [
    "# Train the basic models\n",
    "for idx,mlp in enumerate(mlps):\n",
    "    mlp_name = \"basic\"+str(idx+1).zfill(3)\n",
    "    print(\"=============================================================\")\n",
    "    print(\"Training: \"+mlp_name)\n",
    "    tf.train_model(mlp, train_loader, mlp_name, Neps)\n",
    "    print(\"-------------------------------------------------------------\")\n",
    "    tf.test_model(mlp, test_loader)"
   ]
  }
 ],
 "metadata": {
  "kernelspec": {
   "display_name": "i2p-env",
   "language": "python",
   "name": "python3"
  },
  "language_info": {
   "codemirror_mode": {
    "name": "ipython",
    "version": 3
   },
   "file_extension": ".py",
   "mimetype": "text/x-python",
   "name": "python",
   "nbconvert_exporter": "python",
   "pygments_lexer": "ipython3",
   "version": "3.10.14"
  }
 },
 "nbformat": 4,
 "nbformat_minor": 2
}
