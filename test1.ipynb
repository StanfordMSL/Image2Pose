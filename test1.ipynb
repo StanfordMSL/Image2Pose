{
 "cells": [
  {
   "cell_type": "markdown",
   "metadata": {},
   "source": [
    "Testing of ResNet+MLP where we take the ResNet output, concatenate it with a gravity vector (which the drone has via its IMU) and pass it through an MLP to get an estimate of the pose.\n",
    "\n",
    "We try out a bunch of hidden layer configurations and also compare results between networks with pre-trained ResNet weights and networks where the ResNet weights are allowed to be trained on given the data."
   ]
  },
  {
   "cell_type": "code",
   "execution_count": 1,
   "metadata": {},
   "outputs": [],
   "source": [
    "# Some useful settings for interactive work\n",
    "%load_ext autoreload\n",
    "%autoreload 2"
   ]
  },
  {
   "cell_type": "code",
   "execution_count": 2,
   "metadata": {},
   "outputs": [],
   "source": [
    "import functions.data as df\n",
    "import functions.training as tf\n",
    "from models import *"
   ]
  },
  {
   "cell_type": "code",
   "execution_count": 3,
   "metadata": {},
   "outputs": [],
   "source": [
    "# Initialize NN variables\n",
    "hidden_sizes = [\n",
    "    [256, 128, 7],\n",
    "    [128, 32, 7],\n",
    "    ]\n",
    "\n",
    "mlps = [VisionPoseMLP(hidden_size,False) for hidden_size in hidden_sizes]\n",
    "\n",
    "Neps = 500\n",
    "Ndata = None\n",
    "ratio = 0.8\n",
    "Nexp = 0"
   ]
  },
  {
   "cell_type": "code",
   "execution_count": 5,
   "metadata": {},
   "outputs": [
    {
     "name": "stdout",
     "output_type": "stream",
     "text": [
      "(1, 3, 224, 224)\n",
      "(1, 3, 224, 224)\n",
      "(1, 3, 224, 224)\n"
     ]
    }
   ],
   "source": [
    "# Generate data loaders\n",
    "train_loader, test_loader = df.get_data(ratio,Ndata)"
   ]
  },
  {
   "cell_type": "code",
   "execution_count": 6,
   "metadata": {},
   "outputs": [
    {
     "name": "stdout",
     "output_type": "stream",
     "text": [
      "=============================================================\n",
      "Training: basic001\n",
      "Epoch:  50 | Loss: 0.02507\n",
      "Epoch: 100 | Loss: 0.02491\n",
      "Epoch: 150 | Loss: 0.02902\n",
      "Epoch: 200 | Loss: 0.02062\n",
      "Epoch: 250 | Loss: 0.03973\n",
      "Epoch: 300 | Loss: 0.02569\n",
      "Epoch: 350 | Loss: 0.01474\n",
      "Epoch: 400 | Loss: 0.01453\n",
      "Epoch: 450 | Loss: 0.01099\n",
      "Epoch: 500 | Loss: 0.00896\n",
      "-------------------------------------------------------------\n",
      "-------------------------------------------------------------\n",
      "Test Loss: 0.0170\n",
      "Examples:\n",
      "=============================================================\n",
      "Training: basic002\n",
      "Epoch:  50 | Loss: 0.03154\n",
      "Epoch: 100 | Loss: 0.02505\n",
      "Epoch: 150 | Loss: 0.02022\n",
      "Epoch: 200 | Loss: 0.02337\n",
      "Epoch: 250 | Loss: 0.01700\n",
      "Epoch: 300 | Loss: 0.02098\n",
      "Epoch: 350 | Loss: 0.01540\n",
      "Epoch: 400 | Loss: 0.02224\n",
      "Epoch: 450 | Loss: 0.01754\n",
      "Epoch: 500 | Loss: 0.01851\n",
      "-------------------------------------------------------------\n",
      "-------------------------------------------------------------\n",
      "Test Loss: 0.0245\n",
      "Examples:\n"
     ]
    }
   ],
   "source": [
    "# Train the basic models\n",
    "for idx,mlp in enumerate(mlps):\n",
    "    mlp_name = \"basic\"+str(idx+1).zfill(3)\n",
    "    print(\"=============================================================\")\n",
    "    print(\"Training: \"+mlp_name)\n",
    "    tf.train_model(mlp, train_loader, mlp_name,useNeRF=False, Neps=Neps)\n",
    "    print(\"-------------------------------------------------------------\")\n",
    "    tf.test_model(mlp, test_loader,useNeRF=False, Nexp=Nexp)\n",
    "\n",
    "# print(mlp.networks[0].model[0].conv1.weight[0,0,0,:])"
   ]
  }
 ],
 "metadata": {
  "kernelspec": {
   "display_name": "i2p-env",
   "language": "python",
   "name": "python3"
  },
  "language_info": {
   "codemirror_mode": {
    "name": "ipython",
    "version": 3
   },
   "file_extension": ".py",
   "mimetype": "text/x-python",
   "name": "python",
   "nbconvert_exporter": "python",
   "pygments_lexer": "ipython3",
   "version": "3.8.19"
  }
 },
 "nbformat": 4,
 "nbformat_minor": 2
}
